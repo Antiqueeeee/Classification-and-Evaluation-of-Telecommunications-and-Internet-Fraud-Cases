{
 "cells": [
  {
   "cell_type": "code",
   "execution_count": 1,
   "id": "1a0afca6",
   "metadata": {},
   "outputs": [],
   "source": [
    "import os\n",
    "import json"
   ]
  },
  {
   "cell_type": "code",
   "execution_count": null,
   "id": "eb19e280",
   "metadata": {},
   "outputs": [],
   "source": []
  },
  {
   "cell_type": "code",
   "execution_count": 2,
   "id": "ffdb5193",
   "metadata": {},
   "outputs": [],
   "source": [
    "data_path = os.path.join(os.path.abspath(\".\"),\"data\")\n",
    "task = \"deceitClassification\"\n",
    "train_path = os.path.join(data_path,task,\"train.json\")\n",
    "test_path = os.path.join(data_path,task,\"test.json\")\n",
    "with open(train_path,encoding=\"utf-8\") as f:\n",
    "    train_raw = json.load(f)\n",
    "    \n",
    "train_raw = [item for item in train_raw if len(item['案情描述']) < 500]\n"
   ]
  },
  {
   "cell_type": "code",
   "execution_count": 3,
   "id": "7bb12d40",
   "metadata": {},
   "outputs": [
    {
     "data": {
      "text/plain": [
       "{'案件编号': 63865,\n",
       " '案情描述': '2022年12月7日，（微信号：；农行卡：；建行卡：；中行卡；邮储卡：）在家中添加了一个微信好友（微信号：），后将其录入一个微信刷单群（已解散）。后按照群内指示下载了“乐橙”APP，并在该APP“发现”板块进行做任务刷单。多次通过银行卡转账至对方账户：1.农行卡：，户名：；2.中行卡：，户名：；3.建行卡：，户名：；4.，户名：广西益城房地产代理有限公司；5.农行卡：，户名：衡水则霓橡塑制品有限公司；6.建行卡：，户名：张维祥；7.建行卡：，户名：山东鹏玖商贸有限公司；8.内蒙古自治区农村信用社：，户名：；9.建行卡：，户名：；10.浙江省农村信用社：，户名：；11.建行卡：，户名：。后发现无法提现，意识到被骗。损失价值元。',\n",
       " '案件类别': '刷单返利类'}"
      ]
     },
     "execution_count": 3,
     "metadata": {},
     "output_type": "execute_result"
    }
   ],
   "source": [
    "train_raw[0]"
   ]
  },
  {
   "cell_type": "code",
   "execution_count": 3,
   "id": "200bf357",
   "metadata": {},
   "outputs": [],
   "source": [
    "# 去除语料中括号的内容\n",
    "# 脱敏后的数据包含很多  : ， 的冗余语料\n",
    "# 所有字符都换成半角符号\n",
    "# 存在过长段落\n"
   ]
  },
  {
   "cell_type": "code",
   "execution_count": null,
   "id": "149f8d7f",
   "metadata": {},
   "outputs": [],
   "source": []
  },
  {
   "cell_type": "code",
   "execution_count": 4,
   "id": "9c715b93",
   "metadata": {},
   "outputs": [],
   "source": [
    "# 没有验证集，要自己切一部分出来\n",
    "# 也可以考虑交叉验证\n",
    "from sklearn.model_selection import train_test_split\n",
    "train_raw,dev_raw,_,_ = train_test_split(train_raw,train_raw)\n",
    "\n",
    "# 用部分数据看模型的拟合情况\n",
    "sample_train = train_raw[:int(len(train_raw) * 0.01)]\n",
    "sample_dev = dev_raw[:int(len(dev_raw) * 0.01)]\n",
    "\n",
    "with open(os.path.join(data_path,task,\"sample_train.json\"),\"w\",encoding=\"utf-8\") as f:\n",
    "    json.dump(sample_train,f,ensure_ascii=False,indent=2)\n",
    "with open(os.path.join(data_path,task,\"sample_dev.json\"),\"w\",encoding=\"utf-8\") as f:\n",
    "    json.dump(sample_dev,f,ensure_ascii=False,indent=2)\n",
    "    \n",
    "# 保存全量数据\n",
    "with open(os.path.join(data_path,task,\"train_data.json\"),\"w\",encoding=\"utf-8\") as f:\n",
    "    json.dump(train_raw,f,ensure_ascii=False,indent=2)\n",
    "with open(os.path.join(data_path,task,\"dev_data.json\"),\"w\",encoding=\"utf-8\") as f:\n",
    "    json.dump(dev_raw,f,ensure_ascii=False,indent=2)"
   ]
  },
  {
   "cell_type": "code",
   "execution_count": 11,
   "id": "21376891",
   "metadata": {},
   "outputs": [],
   "source": [
    "import json\n",
    "config = {\n",
    "    \"task\" : \"deceitClassification\",\n",
    "    \"batch_size\" : 2,\n",
    "    \"bert_learning_rate\" : 5e-6,\n",
    "    \"non_bert_learning_rate\" : 1e-3,\n",
    "    \"weight_decay\" : 0,\n",
    "    \"epochs\" : 10,\n",
    "    \"bert_hid_size\" : 768,\n",
    "    \"loss_type\" : \"ce\",\n",
    "    \"bert_name\" : \"bert-base-chinese\"\n",
    "}\n",
    "os.makedirs(os.path.join(os.path.abspath(\".\"),\"config\",\"deceitClassification\"))\n",
    "with open(os.path.join(os.path.abspath(\".\"),\"config\",\"deceitClassification\",\"bert-base.json\"),\"w\",encoding=\"utf-8\") as f:\n",
    "    json.dump(config,f,ensure_ascii=False,indent=2)"
   ]
  },
  {
   "cell_type": "code",
   "execution_count": null,
   "id": "01bd6f99",
   "metadata": {},
   "outputs": [],
   "source": []
  }
 ],
 "metadata": {
  "kernelspec": {
   "display_name": "Python 3 (ipykernel)",
   "language": "python",
   "name": "python3"
  },
  "language_info": {
   "codemirror_mode": {
    "name": "ipython",
    "version": 3
   },
   "file_extension": ".py",
   "mimetype": "text/x-python",
   "name": "python",
   "nbconvert_exporter": "python",
   "pygments_lexer": "ipython3",
   "version": "3.7.13"
  }
 },
 "nbformat": 4,
 "nbformat_minor": 5
}
